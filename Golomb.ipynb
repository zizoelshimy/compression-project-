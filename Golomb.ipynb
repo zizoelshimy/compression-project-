{
 "cells": [
  {
   "cell_type": "code",
   "execution_count": 1,
   "metadata": {},
   "outputs": [],
   "source": [
    "import math\n",
    "import numpy as np\n",
    "\n",
    "def golomb_encode(data, m):\n",
    "    b = math.ceil(math.log2(m))\n",
    "    encoded_data = []\n",
    "    for number in data:\n",
    "        q = number // m  # Quotient\n",
    "        r = number % m  # Remainder\n",
    "        # Unary code for quotient\n",
    "        unary_code = '1' * q + '0'\n",
    "        # Binary code for remainder\n",
    "        if (1 << b) - m > r:\n",
    "            b -= 1\n",
    "        binary_code = format(r, f'0{b}b')\n",
    "        # Combine unary and binary codes\n",
    "        encoded_data.append(unary_code + binary_code)\n",
    "    return encoded_data"
   ]
  },
  {
   "cell_type": "code",
   "execution_count": 2,
   "metadata": {},
   "outputs": [],
   "source": [
    "def golomb_decode(encoded_data, m):\n",
    "    \n",
    "    decoded_data = []\n",
    "    for code in encoded_data:\n",
    "        # Separate the unary and binary parts\n",
    "        unary_part = code.split('0', 1)[0]\n",
    "        remainder_part = code[len(unary_part) + 1:]\n",
    "\n",
    "        # Compute the quotient from the unary part\n",
    "        q = len(unary_part)\n",
    "\n",
    "        # Compute the binary length for the remainder\n",
    "        b = math.ceil(math.log2(m))\n",
    "        if (1 << b) - m > int(remainder_part, 2):\n",
    "            b -= 1\n",
    "\n",
    "        # Compute the remainder from the binary part\n",
    "        r = int(remainder_part, 2)\n",
    "\n",
    "        # Decode the original number\n",
    "        number = q * m + r\n",
    "        decoded_data.append(number)\n",
    "\n",
    "    return decoded_data"
   ]
  },
  {
   "cell_type": "code",
   "execution_count": 3,
   "metadata": {},
   "outputs": [],
   "source": [
    "def compute_compression_ratio(original_data, encoded_data):\n",
    "    \n",
    "    original_size = len(original_data) * 32  # Assuming 32-bit integers\n",
    "    compressed_size = sum(len(bitstream) for bitstream in encoded_data)\n",
    "    return original_size / compressed_size"
   ]
  },
  {
   "cell_type": "code",
   "execution_count": 4,
   "metadata": {},
   "outputs": [],
   "source": [
    "def compute_golomb_m(data):\n",
    "    # Calculate the mean of the input data\n",
    "    mean = sum(data) / len(data)\n",
    "\n",
    "    # Find the closest power of 2 to the mean\n",
    "    m = 2 ** round(math.log2(mean))\n",
    "    return m"
   ]
  },
  {
   "cell_type": "code",
   "execution_count": 5,
   "metadata": {},
   "outputs": [
    {
     "name": "stdout",
     "output_type": "stream",
     "text": [
      "Optimal m for Golomb coding: 64\n",
      "Original numbers: [12, 18, 28, 42, 56, 70, 97, 125, 187, 250]\n",
      "Encoded data: ['0001100', '0010010', '0011100', '0101010', '0111000', '10000110', '10100001', '10111101', '110111011', '1110111010']\n",
      "Compression Ratio: 4.102564102564102\n"
     ]
    }
   ],
   "source": [
    "data=  [12, 18, 28, 42, 56, 70, 97, 125, 187, 250]\n",
    "m=compute_golomb_m(data)\n",
    "print(f\"Optimal m for Golomb coding: {m}\")\n",
    "\n",
    "encoded_data= golomb_encode(data,m)\n",
    "print(\"Original numbers:\", data)\n",
    "print(\"Encoded data:\", encoded_data)\n",
    "\n",
    "compression_ratio = compute_compression_ratio(data, encoded_data)\n",
    "print(\"Compression Ratio:\", compression_ratio)"
   ]
  },
  {
   "cell_type": "code",
   "execution_count": 7,
   "metadata": {},
   "outputs": [
    {
     "name": "stdout",
     "output_type": "stream",
     "text": [
      "Original numbers: ['0001100', '0010010', '0011100', '0101010', '0111000', '10000110', '10100001', '10111101', '110111011', '1110111010']\n",
      "Encoded data: [12, 18, 28, 42, 56, 70, 97, 125, 187, 250]\n"
     ]
    }
   ],
   "source": [
    "data=['0001100', '0010010', '0011100', '0101010', '0111000', '10000110', '10100001', '10111101', '110111011', '1110111010']\n",
    "decoded_data= golomb_decode(data,m)\n",
    "print(\"Original numbers:\", data)\n",
    "print(\"Encoded data:\", decoded_data)"
   ]
  },
  {
   "cell_type": "code",
   "execution_count": null,
   "metadata": {},
   "outputs": [],
   "source": []
  }
 ],
 "metadata": {
  "kernelspec": {
   "display_name": "Python 3",
   "language": "python",
   "name": "python3"
  },
  "language_info": {
   "codemirror_mode": {
    "name": "ipython",
    "version": 3
   },
   "file_extension": ".py",
   "mimetype": "text/x-python",
   "name": "python",
   "nbconvert_exporter": "python",
   "pygments_lexer": "ipython3",
   "version": "3.12.4"
  }
 },
 "nbformat": 4,
 "nbformat_minor": 2
}
