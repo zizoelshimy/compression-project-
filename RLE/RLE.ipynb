{
 "cells": [
  {
   "cell_type": "code",
   "execution_count": 7,
   "metadata": {},
   "outputs": [],
   "source": [
    "def compress(input):\n",
    "    # if input is empty\n",
    "    if not input:\n",
    "        return \"\"\n",
    "\n",
    "    compressed = []\n",
    "    count = 1\n",
    "\n",
    "    for i in range(1, len(input)):\n",
    "        if input[i] == input[i - 1]:\n",
    "            count += 1\n",
    "        else:\n",
    "            compressed.append(str(count) + input[i - 1]) \n",
    "            count = 1\n",
    "\n",
    "    # Append the last character and its count\n",
    "    compressed.append(str(count) + input[-1])\n",
    "\n",
    "    return \"\".join(compressed)\n"
   ]
  },
  {
   "cell_type": "code",
   "execution_count": 8,
   "metadata": {},
   "outputs": [],
   "source": [
    "def compression_ratio(original, compressed):\n",
    "    if len(original) == 0:\n",
    "        return 0  # To avoid division by zero\n",
    "    return len(original) / len(compressed)\n"
   ]
  },
  {
   "cell_type": "code",
   "execution_count": 9,
   "metadata": {},
   "outputs": [],
   "source": [
    "def decompress(input):\n",
    "    # if input is empty\n",
    "    if not input:\n",
    "        return \"\"\n",
    "\n",
    "    decompressed = []\n",
    "    for i in range(1, len(input), 2):\n",
    "        char = input[i]\n",
    "        count = int(input[i - 1])\n",
    "        decompressed.append(char * count)\n",
    "\n",
    "    return \"\".join(decompressed)"
   ]
  },
  {
   "cell_type": "code",
   "execution_count": 10,
   "metadata": {},
   "outputs": [
    {
     "name": "stdout",
     "output_type": "stream",
     "text": [
      "Original: aaabbbbccdddd\n",
      "Compressed: 3a4b2c4d\n",
      "Decompressed: aaabbbbccdddd\n",
      "Compression Ratio: 1.625\n"
     ]
    }
   ],
   "source": [
    "input = \"aaabbbbccdddd\"\n",
    "print(\"Original:\", input)\n",
    "\n",
    "compressed = compress(input)\n",
    "print(\"Compressed:\", compressed)\n",
    "\n",
    "decompressed = decompress(compressed)\n",
    "print(\"Decompressed:\", decompressed)\n",
    "\n",
    "ratio = compression_ratio(input, compressed)\n",
    "print(\"Compression Ratio:\", ratio)"
   ]
  },
  {
   "cell_type": "code",
   "execution_count": 11,
   "metadata": {},
   "outputs": [
    {
     "name": "stdout",
     "output_type": "stream",
     "text": [
      "Original: 444555520112222222\n",
      "Compressed: 344512102172\n",
      "Decompressed: 444555520112222222\n",
      "Compression Ratio: 1.5\n"
     ]
    }
   ],
   "source": [
    "input = \"444555520112222222\"\n",
    "print(\"Original:\", input)\n",
    "\n",
    "compressed = compress(input)\n",
    "print(\"Compressed:\", compressed)\n",
    "\n",
    "decompressed = decompress(compressed)\n",
    "print(\"Decompressed:\", decompressed)\n",
    "\n",
    "ratio = compression_ratio(input, compressed)\n",
    "print(\"Compression Ratio:\", ratio)"
   ]
  }
 ],
 "metadata": {
  "kernelspec": {
   "display_name": "Python 3",
   "language": "python",
   "name": "python3"
  },
  "language_info": {
   "codemirror_mode": {
    "name": "ipython",
    "version": 3
   },
   "file_extension": ".py",
   "mimetype": "text/x-python",
   "name": "python",
   "nbconvert_exporter": "python",
   "pygments_lexer": "ipython3",
   "version": "3.11.5"
  }
 },
 "nbformat": 4,
 "nbformat_minor": 2
}
